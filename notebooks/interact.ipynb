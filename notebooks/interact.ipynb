{
 "cells": [
  {
   "cell_type": "markdown",
   "metadata": {},
   "source": [
    "# ipywidgets interact sample"
   ]
  },
  {
   "cell_type": "markdown",
   "metadata": {},
   "source": [
    "ref: https://github.com/tirthajyoti/Interactive_Machine_Learning/blob/master/Interactive%20ML-Regression.ipynb"
   ]
  },
  {
   "cell_type": "markdown",
   "metadata": {},
   "source": [
    "Tips: If you cannot use _interact_ func, try do this:\n",
    "\n",
    "jupyter notebook:\n",
    "\n",
    "```sh\n",
    "jupyter nbextension enable --py widgetsnbextension\n",
    "```\n",
    "\n",
    "jupyter lab:\n",
    "\n",
    "```sh\n",
    "jupyter labextension install @jupyter-widgets/jupyterlab-manager\n",
    "```"
   ]
  },
  {
   "cell_type": "code",
   "execution_count": 1,
   "metadata": {},
   "outputs": [],
   "source": [
    "import numpy as np\n",
    "import matplotlib.pyplot as plt\n",
    "import seaborn as sns\n",
    "import pandas as pd\n",
    "\n",
    "import ipywidgets as widgets\n",
    "\n",
    "from ipywidgets import (fixed, interact, interactive, IntSlider, Layout, interact_manual)\n",
    "from IPython.display import (clear_output, display)\n",
    "\n",
    "sns.set(style='white', font='Osaka', context='notebook', palette='deep')\n",
    "\n",
    "import logging\n",
    "import pprint\n",
    "import sys\n",
    "import warnings\n",
    "\n",
    "logger = logging.getLogger()\n",
    "logger.addHandler(logging.StreamHandler(sys.stdout))\n",
    "logger.setLevel(logging.INFO)\n",
    "\n",
    "%matplotlib inline\n",
    "# %matplotlib notebook"
   ]
  },
  {
   "cell_type": "markdown",
   "metadata": {},
   "source": [
    "#### Variables"
   ]
  },
  {
   "cell_type": "code",
   "execution_count": 2,
   "metadata": {},
   "outputs": [],
   "source": [
    "x_min = -5\n",
    "x_max = 5\n",
    "N = 100\n",
    "# Assume noise follows normal distribution with the mean is zero.\n",
    "# noise_mean = 0\n",
    "noise_std = .5"
   ]
  },
  {
   "cell_type": "markdown",
   "metadata": {},
   "source": [
    "#### function for interact"
   ]
  },
  {
   "cell_type": "code",
   "execution_count": 3,
   "metadata": {},
   "outputs": [
    {
     "data": {
      "application/vnd.jupyter.widget-view+json": {
       "model_id": "53957a477aa948b2b4dc886af37b1130",
       "version_major": 2,
       "version_minor": 0
      },
      "text/html": [
       "<p>Failed to display Jupyter Widget of type <code>interactive</code>.</p>\n",
       "<p>\n",
       "  If you're reading this message in the Jupyter Notebook or JupyterLab Notebook, it may mean\n",
       "  that the widgets JavaScript is still loading. If this message persists, it\n",
       "  likely means that the widgets JavaScript library is either not installed or\n",
       "  not enabled. See the <a href=\"https://ipywidgets.readthedocs.io/en/stable/user_install.html\">Jupyter\n",
       "  Widgets Documentation</a> for setup instructions.\n",
       "</p>\n",
       "<p>\n",
       "  If you're reading this message in another frontend (for example, a static\n",
       "  rendering on GitHub or <a href=\"https://nbviewer.jupyter.org/\">NBViewer</a>),\n",
       "  it may mean that your frontend doesn't currently support widgets.\n",
       "</p>\n"
      ],
      "text/plain": [
       "interactive(children=(Dropdown(description='N', options={'20': 20, '100': 100, '500': 500}, value=20), IntSlider(value=-3, description='x_min', max=0, min=-5), IntSlider(value=2, description='x_max', max=5), FloatSlider(value=1.0, description='noise_std', max=2.0, step=0.25), Output()), _dom_classes=('widget-interact',))"
      ]
     },
     "metadata": {},
     "output_type": "display_data"
    }
   ],
   "source": [
    "# HACK(fhiyo): numpy arrayが一緒に出力されてしまう．\n",
    "#              clear_output()すると図も消える\n",
    "@interact\n",
    "def generateGeneratingFuncAndSample(N: {'20': 20, '100': 100, '500': 500}, x_min: (-5,0,1), x_max: (0,5,1), noise_std: (0,2,.25)):\n",
    "    \"\"\"Gerarate and Plot sin curve and sample.\"\"\"\n",
    "    noise_mean = 0\n",
    "    x_line = np.linspace(x_min, x_max, N*5)\n",
    "    y_line = np.sin(x_line)\n",
    "    x = np.random.choice(x_line, size=N)\n",
    "    y = np.sin(x) + np.random.normal(loc=noise_mean, scale=noise_std, size=N)\n",
    "\n",
    "    plt.scatter(x, y, edgecolors='k', c='yellow', s=60)\n",
    "    plt.plot(x_line, y_line)\n",
    "    \n",
    "    return x_line, y_line, x, y"
   ]
  },
  {
   "cell_type": "markdown",
   "metadata": {},
   "source": [
    "#### 回帰する (interactで動的に指定したパラメータは以降の計算に反映されないので注意!)"
   ]
  },
  {
   "cell_type": "code",
   "execution_count": 4,
   "metadata": {},
   "outputs": [
    {
     "data": {
      "image/png": "[encoded data removed]",
      "text/plain": [
       "<matplotlib.figure.Figure at 0x10958ecc0>"
      ]
     },
     "metadata": {},
     "output_type": "display_data"
    }
   ],
   "source": [
    "x_line, y_line, x, y = generateGeneratingFuncAndSample(N, x_min, x_max, noise_std)"
   ]
  },
  {
   "cell_type": "code",
   "execution_count": 5,
   "metadata": {},
   "outputs": [],
   "source": [
    "# x"
   ]
  },
  {
   "cell_type": "code",
   "execution_count": 6,
   "metadata": {},
   "outputs": [],
   "source": [
    "from sklearn.model_selection import train_test_split\n",
    "from sklearn.preprocessing import PolynomialFeatures\n",
    "from sklearn.linear_model import LassoCV\n",
    "from sklearn.linear_model import RidgeCV\n",
    "from sklearn.linear_model import LinearRegression\n",
    "from sklearn.pipeline import make_pipeline"
   ]
  },
  {
   "cell_type": "code",
   "execution_count": 7,
   "metadata": {},
   "outputs": [],
   "source": [
    "RAND_SEED = 42\n",
    "LASSO_EPS = .01\n",
    "LASSO_NALPHA = 20\n",
    "LASSO_ITER = 3000\n",
    "N_CV = 5\n",
    "RIDGE_ALPHAS = [.001, .01, .1, 1]"
   ]
  },
  {
   "cell_type": "code",
   "execution_count": 10,
   "metadata": {},
   "outputs": [],
   "source": [
    "# HACK(fhiyo): 名前がscikit-learnのfit()を彷彿とするのであまり良くなさそう\n",
    "# 説明変数が多次元じゃないのでLassoもRidgeも大して変わらない気がするが\n",
    "def fit(model_type, x, y, test_size, degree):\n",
    "    \"\"\"Fitting function (model is branched by model_type).\"\"\"\n",
    "    def RMSE(pred, targ):\n",
    "        \"\"\"Calculate root mean squared error.\"\"\"\n",
    "        assert pred.size == targ.size\n",
    "        return np.sqrt(np.mean(np.square(pred-targ)))\n",
    "\n",
    "    X_train, X_test, y_train, y_test = train_test_split(x, y, test_size=test_size, random_state=RAND_SEED)\n",
    "    \n",
    "    if model_type == 'Linear regression':\n",
    "        model = make_pipeline(PolynomialFeatures(degree,\n",
    "                                                 interaction_only=False),\n",
    "                              LinearRegression(normalize=True))\n",
    "    elif model_type == 'Lasso CV':\n",
    "        model = make_pipeline(PolynomialFeatures(degree,\n",
    "                                                 interaction_only=False),\n",
    "                              LassoCV(eps=LASSO_EPS,\n",
    "                                      n_alphas=LASSO_NALPHA,\n",
    "                                      max_iter=LASSO_ITER,\n",
    "                                      normalize=True,\n",
    "                                      cv=N_CV))\n",
    "    elif model_type == 'Ridge CV':\n",
    "        model = make_pipeline(PolynomialFeatures(degree,\n",
    "                                                 interaction_only=False),\n",
    "                              RidgeCV(alphas=RIDGE_ALPHAS,\n",
    "                                      normalize=True,\n",
    "                                      cv=N_CV))\n",
    "    else:\n",
    "        raise Exception('Invalid model type.')\n",
    "        \n",
    "    X_train = X_train.reshape(-1, 1)\n",
    "    X_test = X_test.reshape(-1, 1)\n",
    "    \n",
    "    model.fit(X_train, y_train)\n",
    "    \n",
    "    train_pred = model.predict(X_train)\n",
    "    train_score = model.score(X_train, y_train)\n",
    "    test_pred = model.predict(X_test)\n",
    "    test_score = model.score(X_test, y_test)\n",
    "    \n",
    "    RMSE_train = RMSE(train_pred, y_train)\n",
    "    RMSE_test = RMSE(test_pred, y_test)\n",
    "    \n",
    "    plt.figure(figsize=(14, 6))\n",
    "\n",
    "    plt.subplot(1, 2, 1)\n",
    "    plt.title('Test set preformance\\nTest score: {: .3f}'.format(test_score),\n",
    "              fontsize=16)\n",
    "    plt.xlabel('X-test', fontsize=13)\n",
    "    plt.ylabel('y-test', fontsize=13)\n",
    "    plt.scatter(X_test, y_test, edgecolors='k', c='blue', s=60)\n",
    "    plt.scatter(X_test, test_pred, edgecolors='k', c='yellow', s=60)\n",
    "    plt.grid(True)\n",
    "    plt.legend(['Actual test values', 'Predicted test values'])\n",
    "    \n",
    "    plt.subplot(1, 2, 2)\n",
    "    plt.title('Train set preformance\\nTraining score: {: .3f}'.format(train_score),\n",
    "              fontsize=16)\n",
    "    plt.xlabel('X-train', fontsize=13)\n",
    "    plt.ylabel('y-train', fontsize=13)\n",
    "    plt.scatter(X_train, y_train, edgecolors='k', c='blue', s=60)\n",
    "    plt.scatter(X_train, train_pred, edgecolors='k', c='yellow', s=60)\n",
    "    plt.grid(True)\n",
    "    plt.legend(['Actual train values', 'Predicted train values'])"
   ]
  },
  {
   "cell_type": "markdown",
   "metadata": {},
   "source": [
    "#### Run the ML functions with ipywidget interactive"
   ]
  },
  {
   "cell_type": "code",
   "execution_count": 11,
   "metadata": {},
   "outputs": [
    {
     "data": {
      "application/vnd.jupyter.widget-view+json": {
       "model_id": "967f94b598774354baeef1cf14c38f08",
       "version_major": 2,
       "version_minor": 0
      },
      "text/html": [
       "<p>Failed to display Jupyter Widget of type <code>interactive</code>.</p>\n",
       "<p>\n",
       "  If you're reading this message in the Jupyter Notebook or JupyterLab Notebook, it may mean\n",
       "  that the widgets JavaScript is still loading. If this message persists, it\n",
       "  likely means that the widgets JavaScript library is either not installed or\n",
       "  not enabled. See the <a href=\"https://ipywidgets.readthedocs.io/en/stable/user_install.html\">Jupyter\n",
       "  Widgets Documentation</a> for setup instructions.\n",
       "</p>\n",
       "<p>\n",
       "  If you're reading this message in another frontend (for example, a static\n",
       "  rendering on GitHub or <a href=\"https://nbviewer.jupyter.org/\">NBViewer</a>),\n",
       "  it may mean that your frontend doesn't currently support widgets.\n",
       "</p>\n"
      ],
      "text/plain": [
       "interactive(children=(RadioButtons(description='Choose Model', layout=Layout(width='250px'), options=('Linear regression', 'Lasso CV', 'Ridge CV'), style=DescriptionStyle(description_width='initial'), value='Linear regression'), Dropdown(description='test set size ($X_{test}$)', layout=Layout(width='250px'), options={'10% of data': 0.1, '20% of data': 0.2, '30% of data': 0.3, '40% of data': 0.4}, style=DescriptionStyle(description_width='initial'), value=0.1), IntSlider(value=1, continuous_update=False, description='Polynomial($\\\\sum\\\\limits_{i=1}^n a_nx^n$)', layout=Layout(width='250px'), max=10, min=1, style=SliderStyle(description_width='initial')), Output()), _dom_classes=('widget-interact',))"
      ]
     },
     "metadata": {},
     "output_type": "display_data"
    }
   ],
   "source": [
    "STYLE = {'description_width': 'initial'}\n",
    "\n",
    "m = interactive(fit,\n",
    "                model_type=widgets.RadioButtons(options=['Linear regression',\n",
    "                                                         'Lasso CV',\n",
    "                                                         'Ridge CV'],\n",
    "                                                style=STYLE,\n",
    "                                                description='Choose Model',\n",
    "                                                layout=Layout(width='250px')),\n",
    "                x=fixed(x),\n",
    "                y=fixed(y),\n",
    "                test_size=widgets.Dropdown(options={'10% of data': .1,\n",
    "                                                    '20% of data': .2,\n",
    "                                                    '30% of data': .3,\n",
    "                                                    '40% of data': .4,},\n",
    "                                           description='test set size ($X_{test}$)',\n",
    "                                           style=STYLE,\n",
    "                                           layout=Layout(width='250px')),\n",
    "                degree=widgets.IntSlider(min=1, max=10, step=1, description='Polynomial($\\sum\\limits_{i=1}^n a_nx^n$)',\n",
    "                                         continuous_update=False,\n",
    "                                         style=STYLE,\n",
    "                                         layout=Layout(width='250px')))\n",
    "\n",
    "display(m)"
   ]
  },
  {
   "cell_type": "code",
   "execution_count": null,
   "metadata": {},
   "outputs": [],
   "source": []
  },
  {
   "cell_type": "code",
   "execution_count": null,
   "metadata": {},
   "outputs": [],
   "source": []
  }
 ],
 "metadata": {
  "kernelspec": {
   "display_name": "Python 3",
   "language": "python",
   "name": "python3"
  },
  "language_info": {
   "codemirror_mode": {
    "name": "ipython",
    "version": 3
   },
   "file_extension": ".py",
   "mimetype": "text/x-python",
   "name": "python",
   "nbconvert_exporter": "python",
   "pygments_lexer": "ipython3",
   "version": "3.6.5"
  }
 },
 "nbformat": 4,
 "nbformat_minor": 2
}
